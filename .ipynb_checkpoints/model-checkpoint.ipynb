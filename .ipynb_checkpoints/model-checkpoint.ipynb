{
 "cells": [
  {
   "cell_type": "code",
   "execution_count": 1,
   "metadata": {},
   "outputs": [
    {
     "name": "stderr",
     "output_type": "stream",
     "text": [
      "[nltk_data] Downloading package punkt to C:\\Users\\Aryan\n",
      "[nltk_data]     Agarwal\\AppData\\Roaming\\nltk_data...\n",
      "[nltk_data]   Unzipping tokenizers\\punkt.zip.\n"
     ]
    },
    {
     "data": {
      "text/plain": [
       "True"
      ]
     },
     "execution_count": 1,
     "metadata": {},
     "output_type": "execute_result"
    }
   ],
   "source": [
    "import nltk\n",
    "nltk.download('punkt')"
   ]
  },
  {
   "cell_type": "code",
   "execution_count": 14,
   "metadata": {},
   "outputs": [],
   "source": [
    "import numpy as np\n",
    "from nltk.stem.porter import PorterStemmer\n",
    "stemmer=PorterStemmer()"
   ]
  },
  {
   "cell_type": "code",
   "execution_count": 16,
   "metadata": {},
   "outputs": [
    {
     "name": "stdout",
     "output_type": "stream",
     "text": [
      "[0. 1. 1. 0. 0. 1.]\n"
     ]
    }
   ],
   "source": [
    "def tokenize(sentence):\n",
    "  return nltk.word_tokenize(sentence)\n",
    "def stem(word):\n",
    "  return stemmer.stem(word.lower())\n",
    "def bag_of_words(tokenized_sentence,all_words):\n",
    "    tokenized_sentence=[stem(w) for w in tokenized_sentence]\n",
    "    bag=np.zeros(len(all_words),dtype=np.float32)\n",
    "    for idx,w in enumerate(all_words):\n",
    "        if w in tokenized_sentence:\n",
    "            bag[idx]=1.0\n",
    "    return bag\n",
    "sentence=[\"how\",\"are\",\"you\"]\n",
    "all_word=[\"what\",\"are\",\"you\",\"doing\",\"hel\",\"how\"]\n",
    "    \n",
    "     \n",
    " "
   ]
  },
  {
   "cell_type": "code",
   "execution_count": 18,
   "metadata": {},
   "outputs": [],
   "source": [
    "import json\n",
    "import torch\n",
    "import torch.nn as nn\n",
    "from torch.utils.data import Dataset,DataLoader\n"
   ]
  },
  {
   "cell_type": "code",
   "execution_count": 19,
   "metadata": {},
   "outputs": [],
   "source": [
    "with open('intents.json','r') as f:\n",
    "  intents=json.load(f)\n",
    "all_words=[]\n",
    "tags=[]\n",
    "xy=[]\n",
    "for intent in intents['intents']:\n",
    "  tag=intent['tag']\n",
    "  tags.append(tag)\n",
    "  for pattern in intent['patterns']:\n",
    "    w=tokenize(pattern)\n",
    "    all_words.extend(w)\n",
    "    xy.append((w,tag))\n",
    "ignore_words=['?','!','.',',']\n",
    "all_words=[stem(w) for w in all_words if w not in ignore_words]\n",
    "all_words=sorted(set(all_words)) "
   ]
  },
  {
   "cell_type": "code",
   "execution_count": 49,
   "metadata": {},
   "outputs": [],
   "source": [
    "x_train=[]\n",
    "y_train=[]\n",
    "for (pattern,tag) in xy:\n",
    "    bag=bag_of_words(pattern,all_words)\n",
    "    x_train.append(bag)\n",
    "    y_train.append(tags.index(tag))\n",
    "    \n",
    "x_train=np.array(x_train)\n",
    "y_train=np.array(y_train,dtype=np.int64)\n"
   ]
  },
  {
   "cell_type": "code",
   "execution_count": 50,
   "metadata": {},
   "outputs": [],
   "source": [
    "class ChatDataset(Dataset):\n",
    "    def __init__(self):\n",
    "        self.n_samples=len(x_train)\n",
    "        self.x_data=x_train\n",
    "        self.y_data=y_train\n",
    "    def __getitem__(self,index):\n",
    "        return self.x_data[index],self.y_data[index]\n",
    "    def __len__(self):\n",
    "        return self.n_samples\n",
    "batch_size=8\n",
    "dataset=ChatDataset()\n",
    "train_loader=DataLoader(dataset=dataset,batch_size=batch_size,shuffle=True,num_workers=0)\n",
    "\n"
   ]
  },
  {
   "cell_type": "code",
   "execution_count": 58,
   "metadata": {},
   "outputs": [],
   "source": [
    "class NeuralNet(nn.Module):\n",
    "    def __init__(self,input_size,hidden_size,output_size):\n",
    "        super(NeuralNet,self).__init__()\n",
    "        \n",
    "        self.fc1=nn.Linear(input_size,hidden_size)\n",
    "        self.fc2=nn.Linear(hidden_size,hidden_size)\n",
    "        self.fc3=nn.Linear(hidden_size,output_size);\n",
    "        self.relu=nn.ReLU()\n",
    "    def forward(self,x):\n",
    "        out=self.relu(self.fc1(x))\n",
    "        out=self.relu(self.fc2(out))\n",
    "        out=self.fc3(out)\n",
    "        return out\n"
   ]
  },
  {
   "cell_type": "code",
   "execution_count": 59,
   "metadata": {},
   "outputs": [],
   "source": [
    "hidden_size=16 \n",
    "output_size=len(tags)\n",
    "input_size=len(all_words)\n",
    "device=torch.device('cuda' if torch.cuda.is_available() else 'cpu')\n",
    "model=NeuralNet(input_size,hidden_size,output_size).to(device)"
   ]
  },
  {
   "cell_type": "code",
   "execution_count": 60,
   "metadata": {},
   "outputs": [],
   "source": [
    "# create loss and optimizer\n",
    "criterion=nn.CrossEntropyLoss()\n",
    "optimizer=torch.optim.Adam(model.parameters(),lr=0.01)\n"
   ]
  },
  {
   "cell_type": "code",
   "execution_count": 63,
   "metadata": {},
   "outputs": [
    {
     "name": "stdout",
     "output_type": "stream",
     "text": [
      "Train_loss 1.3396098438533954e-05\n",
      "Train_loss 1.0091039825965709e-05\n",
      "Train_loss 7.683023795834742e-06\n",
      "Train_loss 5.945554335085035e-06\n",
      "Train_loss 4.631275601241214e-06\n",
      "Train_loss 3.597136981170479e-06\n",
      "Train_loss 3.093478539994976e-06\n",
      "Train_loss 2.3245797819981817e-06\n",
      "Train_loss 1.77919780242064e-06\n",
      "Train_loss 1.4036889268709274e-06\n"
     ]
    }
   ],
   "source": [
    "num_epochs=1000\n",
    "for epoch in range(num_epochs):\n",
    "    regular_loss=0\n",
    "    for (words,labels) in train_loader:\n",
    "        words=words.to(device)\n",
    "        labels=labels.to(device)\n",
    "        logit=model(words)\n",
    "        loss=criterion(logit,labels)\n",
    "        optimizer.zero_grad()\n",
    "        loss.backward()\n",
    "        optimizer.step()\n",
    "        regular_loss+=loss.item()\n",
    "#     if(epoch%100==0):\n",
    "#         print(\"Train_loss\",regular_loss)\n",
    "\n",
    "\n",
    "        "
   ]
  },
  {
   "cell_type": "code",
   "execution_count": 64,
   "metadata": {},
   "outputs": [
    {
     "name": "stdout",
     "output_type": "stream",
     "text": [
      "training_complete\n"
     ]
    }
   ],
   "source": [
    "# save the data\n",
    "data={\n",
    "    \"model_state\":model.state_dict(),\n",
    "    \"input_size\":input_size,\n",
    "    \"output_size\":output_size,\n",
    "    \"all_words\":all_words,\n",
    "    \"tags\":tags\n",
    "}\n",
    "FILE=\"data.pth\"\n",
    "torch.save(data,FILE)"
   ]
  },
  {
   "cell_type": "code",
   "execution_count": 65,
   "metadata": {},
   "outputs": [],
   "source": [
    "import random"
   ]
  },
  {
   "cell_type": "code",
   "execution_count": null,
   "metadata": {},
   "outputs": [
    {
     "name": "stdout",
     "output_type": "stream",
     "text": [
      "let's chat! type 'quit' to exit\n",
      "You: how can i pay you\n",
      "Arya:Hey :-)\n",
      "You: pay\n",
      "Arya:We accept VISA, Mastercard and Paypal\n",
      "You: how\n",
      "Arya:Hello, thanks for visiting\n",
      "You: how\n",
      "Arya:Hi there, what can I do for you?\n"
     ]
    }
   ],
   "source": [
    "model.eval()\n",
    "bot_name=\"Arya\"\n",
    "print(\"let's chat! type 'quit' to exit\")\n",
    "while True:\n",
    "    sentence=input('You: ')\n",
    "    if(sentence==\"quit\"):\n",
    "        break\n",
    "    sentence=tokenize(sentence)\n",
    "    x=bag_of_words(sentence,all_words)\n",
    "    x=x.reshape(1,x.shape[0])\n",
    "    x=torch.from_numpy(x)\n",
    "    output=model(x)\n",
    "    a,predicted=torch.max(output,dim=1)\n",
    "    tag=tags[predicted.item()]\n",
    "    for intent in intents[\"intents\"]:\n",
    "        if tag==intent[\"tag\"]:\n",
    "            print(f\"{bot_name}:{random.choice(intent['responses'])}\")\n",
    "    \n",
    "    "
   ]
  },
  {
   "cell_type": "code",
   "execution_count": 67,
   "metadata": {},
   "outputs": [
    {
     "name": "stdout",
     "output_type": "stream",
     "text": [
      "2\n"
     ]
    }
   ],
   "source": []
  },
  {
   "cell_type": "code",
   "execution_count": null,
   "metadata": {},
   "outputs": [],
   "source": []
  }
 ],
 "metadata": {
  "kernelspec": {
   "display_name": "Python 3",
   "language": "python",
   "name": "python3"
  },
  "language_info": {
   "codemirror_mode": {
    "name": "ipython",
    "version": 3
   },
   "file_extension": ".py",
   "mimetype": "text/x-python",
   "name": "python",
   "nbconvert_exporter": "python",
   "pygments_lexer": "ipython3",
   "version": "3.8.8"
  }
 },
 "nbformat": 4,
 "nbformat_minor": 4
}
